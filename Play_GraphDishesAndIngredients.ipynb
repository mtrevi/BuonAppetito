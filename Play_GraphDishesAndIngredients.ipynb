{
 "cells": [
  {
   "cell_type": "code",
   "execution_count": 100,
   "metadata": {
    "collapsed": false
   },
   "outputs": [],
   "source": [
    "%reload_ext autoreload\n",
    "%autoreload 2\n",
    "import json\n",
    "import pickle\n",
    "from ext.LIWClib.EmotionsLIWClib import *\n",
    "from data.food_bbc_graph.bbc_graph import *\n",
    "from ext.TextProcessingLib.TextProcessing import *\n",
    "# from data.YelpDataLoader import *\n",
    "from ext.GensimSemanticLib.GensimStatisticalProcessing import *"
   ]
  },
  {
   "cell_type": "code",
   "execution_count": 23,
   "metadata": {
    "collapsed": false
   },
   "outputs": [
    {
     "name": "stdout",
     "output_type": "stream",
     "text": [
      "Loading Business Container (data/yelp_restaurants_business.p)\n",
      "\t-> loaded 21892 business\n",
      "Loading Review Container (data/yelp_restaurants_review.p)\n",
      "\t-> loaded 990627 reviews\n",
      "loaded trie\n"
     ]
    }
   ],
   "source": [
    "'''\n",
    "Load Business and Review processed data\n",
    "'''\n",
    "YBFILE = 'data/yelp_restaurants_business.p'\n",
    "YRFILE = 'data/yelp_restaurants_review.p'\n",
    "print 'Loading Business Container (%s)' %YBFILE\n",
    "businessContainer = pickle.load( open( YBFILE, \"rb\" ) )\n",
    "print '\\t-> loaded %d business' %businessContainer.len()\n",
    "print 'Loading Review Container (%s)' %YRFILE\n",
    "reviewContainer = pickle.load( open( YRFILE, \"rb\" ) )\n",
    "print '\\t-> loaded %d reviews' %reviewContainer.len()\n",
    "from data.food_dataset.trieFinder import *\n",
    "## load trie\n",
    "trie = json.load(open('data/food_dataset/bbc_menupages-trie.json'))\n",
    "trie_finder = TrieFinder(trie)\n",
    "print 'loaded trie'"
   ]
  },
  {
   "cell_type": "code",
   "execution_count": 25,
   "metadata": {
    "collapsed": false,
    "scrolled": false
   },
   "outputs": [],
   "source": [
    "## Load Food-Graph\n",
    "# import gpickle\n",
    "import networkx as nx\n",
    "\n",
    "G = nx.read_gpickle('data/food_bbc_graph/bbc_graph.gpickle')\n",
    "# x = G.nodes()[0]\n",
    "# print [G.in_edges(y) for y, _ in G.in_edges(x)]"
   ]
  },
  {
   "cell_type": "code",
   "execution_count": 78,
   "metadata": {
    "collapsed": false
   },
   "outputs": [
    {
     "name": "stdout",
     "output_type": "stream",
     "text": [
      "node: http://www.bbc.co.uk/food/kirsch\n",
      "list of incoming edges: []\n",
      "0.0\n",
      "outgoing edges: [(u'http://www.bbc.co.uk/food/kirsch', u'E(http://www.bbc.co.uk/food/kirsch)')]\n",
      "incoming edges: []\n",
      "no. self loop: []\n",
      "successors: [u'E(http://www.bbc.co.uk/food/kirsch)']\n"
     ]
    }
   ],
   "source": [
    "x = G.nodes()[30]\n",
    "print 'node:', x\n",
    "name = x.split('/')[-1].replace('_',' ')\n",
    "print 'list of incoming edges:', [y for y, _ in G.in_edges(x)]\n",
    "dish_prob = float(G.in_degree(x))/(G.in_degree(x)+G.out_degree(x))\n",
    "print dish_prob\n",
    "print 'outgoing edges:', G.out_edges(x)\n",
    "print 'incoming edges:', G.in_edges(x)\n",
    "print 'no. self loop:', G.selfloop_edges(x)\n",
    "print 'successors:', G.successors(x)\n",
    "# print all ingredients of a dish\n",
    "# x = G.nodes()[0]\n",
    "# print G.nodes()[x]['type']\n",
    "# print [G.in_edges(y) for y, _ in G.in_edges(x)]"
   ]
  },
  {
   "cell_type": "code",
   "execution_count": 109,
   "metadata": {
    "collapsed": false,
    "scrolled": false
   },
   "outputs": [
    {
     "name": "stdout",
     "output_type": "stream",
     "text": [
      "nodes with score < 0.5 ~ ingredientes?\n",
      "[P(dish|degree)] [ingredienticity] node_type node_name\n",
      "[0.00] [0.00] hypernode http://www.bbc.co.uk/food/forced_rhubarb\n",
      "[0.00] [0.00] hypernode http://www.bbc.co.uk/food/taco\n",
      "[0.00] [0.00] hypernode http://www.bbc.co.uk/food/fusilli\n",
      "[0.00] [0.00] hypernode http://www.bbc.co.uk/food/kirsch\n",
      "[0.00] [0.00] hypernode http://www.bbc.co.uk/food/water_chestnut\n",
      "[0.00] [0.00] hypernode http://www.bbc.co.uk/food/egg\n",
      "[0.00] [0.00] hypernode http://www.bbc.co.uk/food/polenta\n",
      "[0.00] [0.00] hypernode http://www.bbc.co.uk/food/semolina\n",
      "[0.00] [0.00] hypernode http://www.bbc.co.uk/food/mace\n",
      "[0.00] [0.00] hypernode http://www.bbc.co.uk/food/chanterelle_mushrooms\n",
      "[0.00] [0.00] hypernode http://www.bbc.co.uk/food/bouquet_garni\n",
      "[0.00] [0.00] hypernode http://www.bbc.co.uk/food/mung_bean\n",
      "[0.00] [0.00] hypernode http://www.bbc.co.uk/food/cranberry\n",
      "[0.00] [0.00] hypernode http://www.bbc.co.uk/food/grain\n",
      "[0.00] [0.00] hypernode http://www.bbc.co.uk/food/mixed_fish\n",
      "[0.00] [0.00] hypernode http://www.bbc.co.uk/food/tangerine\n",
      "[0.00] [0.00] hypernode http://www.bbc.co.uk/food/halibut\n",
      "[0.00] [0.00] hypernode http://www.bbc.co.uk/food/ketjap_manis\n",
      "[0.00] [0.00] hypernode http://www.bbc.co.uk/food/wild_duck\n",
      "[0.00] [0.00] hypernode http://www.bbc.co.uk/food/cream_cheese\n",
      "{'hyperedge': 1173, 'hypernode': 10023}\n",
      "\n",
      "nodes with score > 0.5 ~ dishes?\n",
      "[P(dish|degree)] [ingredienticity] node_type node_name\n",
      "[1.00] [1.00] hypernode http://www.bbc.co.uk/food/recipes/rose_lychee_and_69495\n",
      "[0.89] [1.00] hypernode http://www.bbc.co.uk/food/recipes/fruit_and_fudge_buns_26812\n",
      "[1.00] [1.00] hypernode http://www.bbc.co.uk/food/recipes/diplomat_pudding_89286\n",
      "[1.00] [1.00] hypernode http://www.bbc.co.uk/food/recipes/hearty_winter_mussels_45629\n",
      "[1.00] [1.00] hypernode http://www.bbc.co.uk/food/recipes/dover_sole_with_clams_50002\n",
      "[1.00] [1.00] hypernode http://www.bbc.co.uk/food/recipes/thaigreencurry_67788\n",
      "[1.00] [1.00] hypernode http://www.bbc.co.uk/food/recipes/mushroomandparmesant_85571\n",
      "[1.00] [1.00] hypernode http://www.bbc.co.uk/food/recipes/mammole_artichoke_salad_32574\n",
      "[1.00] [1.00] hypernode http://www.bbc.co.uk/food/recipes/roquefortandwalnutch_84893\n",
      "[0.93] [1.00] hypernode http://www.bbc.co.uk/food/recipes/goan_lobster_curry_02100\n",
      "[1.00] [1.00] hypernode http://www.bbc.co.uk/food/recipes/summersandwichfillin_12506\n",
      "[1.00] [1.00] hypernode http://www.bbc.co.uk/food/recipes/fillet_of_dexter_beef_27342\n",
      "[1.00] [1.00] hypernode http://www.bbc.co.uk/food/recipes/tamarind_and_lemongrass_62200\n",
      "[1.00] [1.00] hypernode http://www.bbc.co.uk/food/recipes/banana_and_chocolate_84652\n",
      "[1.00] [1.00] hypernode http://www.bbc.co.uk/food/recipes/british_tapas_94352\n",
      "[0.91] [0.50] hypernode http://www.bbc.co.uk/food/recipes/christmas_brownies_41164\n",
      "[0.90] [0.25] hypernode http://www.bbc.co.uk/food/recipes/mangochutney_1319\n",
      "[1.00] [1.00] hypernode http://www.bbc.co.uk/food/recipes/steamed_apple_sponge_96638\n",
      "[1.00] [1.00] hypernode http://www.bbc.co.uk/food/recipes/alcrematwithalittleg_94027\n",
      "[1.00] [1.00] hypernode http://www.bbc.co.uk/food/recipes/thaispicedburgers_70173\n",
      "{'hyperedge': 2346, 'hypernode': 20046}\n"
     ]
    }
   ],
   "source": [
    "## Find all nodes that are dishes\n",
    "cnt = 20\n",
    "stats = {'hyperedge': 0, 'hypernode':0}\n",
    "## compute ingredienticity\n",
    "ingr = ingredienticity(G)\n",
    "## compute dish_probability\n",
    "print 'nodes with score < 0.5 ~ ingredientes?'\n",
    "print '[P(dish|degree)] [ingredienticity] node_type node_name'\n",
    "for x,d in G.nodes(data=True):\n",
    "    if cnt > 0:\n",
    "        dish_prob = float(G.in_degree(x))/(G.in_degree(x)+G.out_degree(x))\n",
    "        if dish_prob < 0.5 and d['type']=='hypernode':\n",
    "            print '[%.2f]' %dish_prob, '[%.2f]'%(1-ingr[x]), d['type'], x\n",
    "            cnt -= 1\n",
    "    stats[d['type']] += 1\n",
    "print stats\n",
    "#\n",
    "cnt = 20\n",
    "print '\\nnodes with score > 0.5 ~ dishes?'\n",
    "print '[P(dish|degree)] [ingredienticity] node_type node_name'\n",
    "for x,d in G.nodes(data=True):\n",
    "    if cnt > 0:\n",
    "        dish_prob = float(G.in_degree(x))/(G.in_degree(x)+G.out_degree(x))\n",
    "        if dish_prob > 0.5:\n",
    "            print '[%.2f]' %dish_prob, '[%.2f]'%(1-ingr[x]), d['type'], x\n",
    "            cnt -= 1\n",
    "    stats[d['type']] += 1\n",
    "print stats\n",
    "#"
   ]
  },
  {
   "cell_type": "markdown",
   "metadata": {},
   "source": []
  }
 ],
 "metadata": {
  "kernelspec": {
   "display_name": "Python 2",
   "language": "python",
   "name": "python2"
  },
  "language_info": {
   "codemirror_mode": {
    "name": "ipython",
    "version": 2
   },
   "file_extension": ".py",
   "mimetype": "text/x-python",
   "name": "python",
   "nbconvert_exporter": "python",
   "pygments_lexer": "ipython2",
   "version": "2.7.6"
  }
 },
 "nbformat": 4,
 "nbformat_minor": 0
}
