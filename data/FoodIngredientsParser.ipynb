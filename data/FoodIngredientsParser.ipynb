{
 "metadata": {
  "name": "",
  "signature": "sha256:2a616762fe4f5482859f75e8e9991842490b912d370dc0bbfcad44411ff1f78f"
 },
 "nbformat": 3,
 "nbformat_minor": 0,
 "worksheets": [
  {
   "cells": [
    {
     "cell_type": "code",
     "collapsed": false,
     "input": [
      "import os\n",
      "import json\n",
      "import codecs\n",
      "#\n",
      "bbc_file = '../food_bbc_crawled_dataset.json'\n"
     ],
     "language": "python",
     "metadata": {},
     "outputs": [],
     "prompt_number": 3
    },
    {
     "cell_type": "code",
     "collapsed": false,
     "input": [
      "data = json.load(open(bbc_file, 'r'))"
     ],
     "language": "python",
     "metadata": {},
     "outputs": [],
     "prompt_number": 8
    },
    {
     "cell_type": "code",
     "collapsed": false,
     "input": [
      "data[1]['description']\n",
      "print len(data)"
     ],
     "language": "python",
     "metadata": {},
     "outputs": [
      {
       "output_type": "stream",
       "stream": "stdout",
       "text": [
        "9093\n"
       ]
      }
     ],
     "prompt_number": 11
    },
    {
     "cell_type": "code",
     "collapsed": false,
     "input": [
      "from ext.TextProcessingLib.TextProcessing import *"
     ],
     "language": "python",
     "metadata": {},
     "outputs": [],
     "prompt_number": 1
    },
    {
     "cell_type": "code",
     "collapsed": false,
     "input": [
      "tt = 'Walnuts add texture and crunch to dishes. Pair them with goats\u2019 \\\n",
      "cheese and a drizzle of walnut oil in our salad recipes or stir them into a classic coffee cake. \\\n",
      "This popular and versatile nut consists of two wrinkly lobes enclosed within a large knobbly beige shell.'\n",
      "preprocess_pipeline( tt, lang='english', stemmer_type=\"PorterStemmer\", \\\n",
      "                    return_as_str=True, do_remove_stopwords=True, decode='utf-8' )"
     ],
     "language": "python",
     "metadata": {},
     "outputs": [
      {
       "metadata": {},
       "output_type": "pyout",
       "prompt_number": 2,
       "text": [
        "'walnut add textur crunch dish pair goat chees drizzl walnut oil salad recip stir classic coffe cake popular versatil nut consist two wrinkli lobe enclos within larg knobbl beig shell'"
       ]
      }
     ],
     "prompt_number": 2
    },
    {
     "cell_type": "code",
     "collapsed": false,
     "input": [
      "tt.decode('utf-8')"
     ],
     "language": "python",
     "metadata": {},
     "outputs": [
      {
       "metadata": {},
       "output_type": "pyout",
       "prompt_number": 3,
       "text": [
        "u'Walnuts add texture and crunch to dishes. Pair them with goats\\u2019 cheese and a drizzle of walnut oil in our salad recipes or stir them into a classic coffee cake. This popular and versatile nut consists of two wrinkly lobes enclosed within a large knobbly beige shell.'"
       ]
      }
     ],
     "prompt_number": 3
    },
    {
     "cell_type": "code",
     "collapsed": false,
     "input": [],
     "language": "python",
     "metadata": {},
     "outputs": []
    }
   ],
   "metadata": {}
  }
 ]
}