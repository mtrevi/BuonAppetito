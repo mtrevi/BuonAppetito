{
 "cells": [
  {
   "cell_type": "code",
   "execution_count": 1,
   "metadata": {
    "collapsed": false
   },
   "outputs": [],
   "source": [
    "import networkx\n",
    "import json\n",
    "import collections"
   ]
  },
  {
   "cell_type": "code",
   "execution_count": 2,
   "metadata": {
    "collapsed": false
   },
   "outputs": [],
   "source": [
    "# Load data from the scrape\n",
    "# data = json.load(open('../bbc_ingredients/bbc_ingredients.2.json', 'r'));\n",
    "data = json.load(open('../bbc_ingredients/bbc_ingredients.20150426_0911.json', 'r'));"
   ]
  },
  {
   "cell_type": "code",
   "execution_count": 3,
   "metadata": {
    "collapsed": false
   },
   "outputs": [
    {
     "ename": "KeyError",
     "evalue": "'item_type'",
     "output_type": "error",
     "traceback": [
      "\u001b[0;31m---------------------------------------------------------------------------\u001b[0m",
      "\u001b[0;31mKeyError\u001b[0m                                  Traceback (most recent call last)",
      "\u001b[0;32m<ipython-input-3-e32a1d1d1a70>\u001b[0m in \u001b[0;36m<module>\u001b[0;34m()\u001b[0m\n\u001b[1;32m      3\u001b[0m \u001b[0;34m\u001b[0m\u001b[0m\n\u001b[1;32m      4\u001b[0m \u001b[0;32mfor\u001b[0m \u001b[0melement\u001b[0m \u001b[0;32min\u001b[0m \u001b[0mdata\u001b[0m\u001b[0;34m:\u001b[0m\u001b[0;34m\u001b[0m\u001b[0m\n\u001b[0;32m----> 5\u001b[0;31m     \u001b[0;32mif\u001b[0m \u001b[0melement\u001b[0m\u001b[0;34m[\u001b[0m\u001b[0;34m'item_type'\u001b[0m\u001b[0;34m]\u001b[0m \u001b[0;34m==\u001b[0m \u001b[0;34m'IngredientRecipeItem'\u001b[0m\u001b[0;34m:\u001b[0m\u001b[0;34m\u001b[0m\u001b[0m\n\u001b[0m\u001b[1;32m      6\u001b[0m         \u001b[0mingredient_recipe_data\u001b[0m\u001b[0;34m.\u001b[0m\u001b[0mappend\u001b[0m\u001b[0;34m(\u001b[0m\u001b[0melement\u001b[0m\u001b[0;34m)\u001b[0m\u001b[0;34m\u001b[0m\u001b[0m\n\u001b[1;32m      7\u001b[0m     \u001b[0;32melse\u001b[0m\u001b[0;34m:\u001b[0m\u001b[0;34m\u001b[0m\u001b[0m\n",
      "\u001b[0;31mKeyError\u001b[0m: 'item_type'"
     ]
    }
   ],
   "source": [
    "ingredient_recipe_data = []\n",
    "recipe_data = []\n",
    "\n",
    "for element in data:\n",
    "    if element['item_type'] == 'IngredientRecipeItem':\n",
    "        ingredient_recipe_data.append(element)\n",
    "    else:\n",
    "        recipe_data.append(element)"
   ]
  },
  {
   "cell_type": "code",
   "execution_count": 23,
   "metadata": {
    "collapsed": false
   },
   "outputs": [],
   "source": [
    "def add_hypernodes(G, recipe_data):\n",
    "    # Create all nodes in the graph\n",
    "    for recipe in recipe_data:\n",
    "        G.add_node(\n",
    "            recipe['url'],\n",
    "            recipe)\n",
    "        G.node[recipe['url']]['type'] = 'hypernode'"
   ]
  },
  {
   "cell_type": "code",
   "execution_count": 29,
   "metadata": {
    "collapsed": false
   },
   "outputs": [],
   "source": [
    "def add_hyperedges(G, recipe_data):\n",
    "    # Create all edges between nodes\n",
    "    for recipe in recipe_data:\n",
    "        recipe_url = recipe['url']\n",
    "        assert G.has_node(recipe_url)\n",
    "        for ingredient_ids, ingredient_text in zip(recipe.get('ingredient_urls', []), recipe.get('ingredients', [])):\n",
    "            ingredient_ids = list(set(ingredient_ids))\n",
    "            hyperedge_sources = [ingredient_ids]\n",
    "            # If the line only contains one ingredient, just create 1 hyperedge\n",
    "            if len(ingredient_ids) > 1:\n",
    "                if ingredient_text.find(' or ') >= 0:\n",
    "                    # If the line is an 'OR' of ingredient, create one hyperedge\n",
    "                    pass\n",
    "                else:\n",
    "                    # Else, create one hyperedge for each ingredient.\n",
    "                    hyperedge_sources = map(lambda x : [x], ingredient_ids)\n",
    "            for hyperedge_source in hyperedge_sources:\n",
    "                hyperedge_name = 'E(%s)' % ', '.join(hyperedge_source)\n",
    "                if not G.has_node(hyperedge_name):\n",
    "                    G.add_node(\n",
    "                        hyperedge_name,\n",
    "                        {\n",
    "                            'sources': hyperedge_source,\n",
    "                            'targets': []\n",
    "                        })\n",
    "                    G.node[hyperedge_name]['type'] = 'hyperedge'\n",
    "                    # Connect the hyperedge to the source\n",
    "                    for ingredient_id in hyperedge_source:\n",
    "                        assert G.has_node(ingredient_id)\n",
    "                        G.add_edge(ingredient_id, hyperedge_name)\n",
    "                # Connect to the target\n",
    "                G.node[hyperedge_name]['targets'].append(recipe_url)\n",
    "                G.add_edge(hyperedge_name, recipe_url)"
   ]
  },
  {
   "cell_type": "code",
   "execution_count": 30,
   "metadata": {
    "collapsed": false
   },
   "outputs": [],
   "source": [
    "def create_ingredient_recipe_list(ingredient_recipe_data):\n",
    "    # Group together the recipes of the ingredients\n",
    "    ingredient_recipe_list = collections.defaultdict(set)\n",
    "    for ingredient_recipe in ingredient_recipe_data:\n",
    "        # Find the ingredient node\n",
    "        ingredient_url = ingredient_recipe['ingredient_url']\n",
    "        recipe_url = ingredient_recipe['recipe_url']\n",
    "        ingredient_recipe_list[ingredient_url].add(recipe_url)\n",
    "    return ingredient_recipe_list"
   ]
  },
  {
   "cell_type": "code",
   "execution_count": 31,
   "metadata": {
    "collapsed": false
   },
   "outputs": [],
   "source": [
    "def split_pseudo_ingredient_hypernodes(G, ingredient_recipe_data):\n",
    "    # Split the ingredient node based on the different recipes\n",
    "    ingredient_recipe_list = create_ingredient_recipe_list(ingredient_recipe_data)\n",
    "    for ingredient_url, recipe_urls in ingredient_recipe_list.iteritems():\n",
    "    #     print 'Ingredient: %s, recipes: %s' % (ingredient_url, ', '.join(recipe_urls))\n",
    "        assert G.has_node(ingredient_url)\n",
    "        assert G.in_degree(ingredient_url) == 0\n",
    "\n",
    "        # Extract the outgoing and incoming edges\n",
    "        out_edges = G.out_edges(ingredient_url)\n",
    "        for recipe_url in recipe_urls:\n",
    "            assert G.has_node(recipe_url), 'Unable to find node %s' % recipe_url\n",
    "    #         print 'Ingredient: %s, recipe: %s' % (ingredient_url, recipe_url)\n",
    "            if 'ingredient_url' not in G.node[recipe_url]:\n",
    "                G.node[recipe_url]['ingredient_url'] = []\n",
    "            # Annotate the recipe node with the ingredient url\n",
    "            G.node[recipe_url]['ingredient_url'].append(ingredient_url)\n",
    "\n",
    "            if len(G.node[recipe_url]['ingredient_url']) > 1:\n",
    "                print 'Warning: recipe %s is shared (%s) ' % (recipe_url, ', '.join(G.node[recipe_url]['ingredient_url'])) \n",
    "\n",
    "            # Connect outgoing nodes\n",
    "            for _, hyperedge in out_edges:\n",
    "                G.add_edge(recipe_url, hyperedge)\n",
    "        # Remove the ingredient node\n",
    "        G.remove_node(ingredient_url)"
   ]
  },
  {
   "cell_type": "code",
   "execution_count": 32,
   "metadata": {
    "collapsed": false
   },
   "outputs": [
    {
     "name": "stdout",
     "output_type": "stream",
     "text": [
      " Nodes: 9514, edges: 0\n",
      " Nodes: 10667, edges: 99913\n"
     ]
    }
   ],
   "source": [
    "G = networkx.DiGraph()\n",
    "add_hypernodes(G, recipe_data)\n",
    "print 'Nodes: %d, edges: %d' % (G.number_of_nodes(), G.number_of_edges())\n",
    "add_hyperedges(G, recipe_data)\n",
    "print 'Nodes: %d, edges: %d' % (G.number_of_nodes(), G.number_of_edges())\n",
    "# Save check. The graph should be acyclic\n",
    "assert len(list(networkx.algorithms.cycles.simple_cycles(G))) == 0"
   ]
  },
  {
   "cell_type": "code",
   "execution_count": 4,
   "metadata": {
    "collapsed": false
   },
   "outputs": [
    {
     "ename": "NameError",
     "evalue": "name 'G' is not defined",
     "output_type": "error",
     "traceback": [
      "\u001b[0;31m---------------------------------------------------------------------------\u001b[0m",
      "\u001b[0;31mNameError\u001b[0m                                 Traceback (most recent call last)",
      "\u001b[0;32m<ipython-input-4-a700b8288d8c>\u001b[0m in \u001b[0;36m<module>\u001b[0;34m()\u001b[0m\n\u001b[1;32m      1\u001b[0m \u001b[0;31m# Split the pseudo-ingredient hypernodes\u001b[0m\u001b[0;34m\u001b[0m\u001b[0;34m\u001b[0m\u001b[0m\n\u001b[0;32m----> 2\u001b[0;31m \u001b[0mG_ingredient_split\u001b[0m \u001b[0;34m=\u001b[0m \u001b[0mG\u001b[0m\u001b[0;34m.\u001b[0m\u001b[0mcopy\u001b[0m\u001b[0;34m(\u001b[0m\u001b[0;34m)\u001b[0m\u001b[0;34m\u001b[0m\u001b[0m\n\u001b[0m\u001b[1;32m      3\u001b[0m \u001b[0msplit_pseudo_ingredient_hypernodes\u001b[0m\u001b[0;34m(\u001b[0m\u001b[0mG_ingredient_split\u001b[0m\u001b[0;34m,\u001b[0m \u001b[0mingredient_recipe_data\u001b[0m\u001b[0;34m)\u001b[0m\u001b[0;34m\u001b[0m\u001b[0m\n\u001b[1;32m      4\u001b[0m \u001b[0;32mprint\u001b[0m \u001b[0;34m' Nodes: %d, edges: %d'\u001b[0m \u001b[0;34m%\u001b[0m \u001b[0;34m(\u001b[0m\u001b[0mG_ingredient_split\u001b[0m\u001b[0;34m.\u001b[0m\u001b[0mnumber_of_nodes\u001b[0m\u001b[0;34m(\u001b[0m\u001b[0;34m)\u001b[0m\u001b[0;34m,\u001b[0m \u001b[0mG_ingredient_split\u001b[0m\u001b[0;34m.\u001b[0m\u001b[0mnumber_of_edges\u001b[0m\u001b[0;34m(\u001b[0m\u001b[0;34m)\u001b[0m\u001b[0;34m)\u001b[0m\u001b[0;34m\u001b[0m\u001b[0m\n\u001b[1;32m      5\u001b[0m \u001b[0;32massert\u001b[0m \u001b[0mlen\u001b[0m\u001b[0;34m(\u001b[0m\u001b[0mlist\u001b[0m\u001b[0;34m(\u001b[0m\u001b[0mnetworkx\u001b[0m\u001b[0;34m.\u001b[0m\u001b[0malgorithms\u001b[0m\u001b[0;34m.\u001b[0m\u001b[0mcycles\u001b[0m\u001b[0;34m.\u001b[0m\u001b[0msimple_cycles\u001b[0m\u001b[0;34m(\u001b[0m\u001b[0mG_ingredient_split\u001b[0m\u001b[0;34m)\u001b[0m\u001b[0;34m)\u001b[0m\u001b[0;34m)\u001b[0m \u001b[0;34m==\u001b[0m \u001b[0;36m0\u001b[0m\u001b[0;34m\u001b[0m\u001b[0m\n",
      "\u001b[0;31mNameError\u001b[0m: name 'G' is not defined"
     ]
    }
   ],
   "source": [
    "# Split the pseudo-ingredient hypernodes\n",
    "G_ingredient_split = G.copy()\n",
    "split_pseudo_ingredient_hypernodes(G_ingredient_split, ingredient_recipe_data)\n",
    "print 'Nodes: %d, edges: %d' % (G_ingredient_split.number_of_nodes(), G_ingredient_split.number_of_edges())\n",
    "assert len(list(networkx.algorithms.cycles.simple_cycles(G_ingredient_split))) == 0"
   ]
  },
  {
   "cell_type": "code",
   "execution_count": 5,
   "metadata": {
    "collapsed": false
   },
   "outputs": [],
   "source": [
    "def remove_simple_hyperedges(G):\n",
    "    # Removes hyperedges with one source and one target\n",
    "    for x, d in G.nodes(data=True):\n",
    "        if d['type'] == 'hyperedge':\n",
    "            in_edges = G.in_edges[x]\n",
    "            out_edges = G.out_edges[x]\n",
    "            assert len(in_edges) > 0\n",
    "            assert len(out_edges) > 0\n",
    "            if len(in_edges) == 1 and len(out_edges) == 1:\n",
    "                # Remove hyperedge\n",
    "                G.add_edge(in_edges[0][0], out_edges[0][1], {'type': 'hyperedge'})\n",
    "                G.remove_node(x)"
   ]
  },
  {
   "cell_type": "code",
   "execution_count": 11,
   "metadata": {
    "collapsed": false
   },
   "outputs": [
    {
     "data": {
      "text/plain": [
       "False"
      ]
     },
     "execution_count": 11,
     "metadata": {},
     "output_type": "execute_result"
    }
   ],
   "source": [
    "G_compressed = G_ingredient_split.copy()\n",
    "remove_simple_hyperedges(G_compressed)\n",
    "print 'Nodes: %d, edges: %d' % (G_compressed.number_of_nodes(), G_compressed.number_of_edges())\n",
    "# Save check. The graph should be acyclic\n",
    "assert len(list(networkx.algorithms.cycles.simple_cycles(G_compressed))) == 0"
   ]
  },
  {
   "cell_type": "code",
   "execution_count": 54,
   "metadata": {
    "collapsed": false
   },
   "outputs": [
    {
     "ename": "TypeError",
     "evalue": "'instancemethod' object has no attribute '__getitem__'",
     "output_type": "error",
     "traceback": [
      "\u001b[0;31m---------------------------------------------------------------------------\u001b[0m",
      "\u001b[0;31mTypeError\u001b[0m                                 Traceback (most recent call last)",
      "\u001b[0;32m<ipython-input-54-e174f7175ce1>\u001b[0m in \u001b[0;36m<module>\u001b[0;34m()\u001b[0m\n\u001b[1;32m     13\u001b[0m         \u001b[0mG\u001b[0m\u001b[0;34m.\u001b[0m\u001b[0mremove_node\u001b[0m\u001b[0;34m(\u001b[0m\u001b[0mhyperedge\u001b[0m\u001b[0;34m)\u001b[0m\u001b[0;34m\u001b[0m\u001b[0m\n\u001b[1;32m     14\u001b[0m \u001b[0;34m\u001b[0m\u001b[0m\n\u001b[0;32m---> 15\u001b[0;31m \u001b[0mremove_food_node\u001b[0m\u001b[0;34m(\u001b[0m\u001b[0mG\u001b[0m\u001b[0;34m,\u001b[0m \u001b[0;34m'zest'\u001b[0m\u001b[0;34m)\u001b[0m\u001b[0;34m\u001b[0m\u001b[0m\n\u001b[0m",
      "\u001b[0;32m<ipython-input-54-e174f7175ce1>\u001b[0m in \u001b[0;36mremove_food_node\u001b[0;34m(G, id)\u001b[0m\n\u001b[1;32m      1\u001b[0m \u001b[0;31m# Remove some odd nodes\u001b[0m\u001b[0;34m\u001b[0m\u001b[0;34m\u001b[0m\u001b[0m\n\u001b[1;32m      2\u001b[0m \u001b[0;32mdef\u001b[0m \u001b[0mremove_food_node\u001b[0m\u001b[0;34m(\u001b[0m\u001b[0mG\u001b[0m\u001b[0;34m,\u001b[0m \u001b[0mid\u001b[0m\u001b[0;34m)\u001b[0m\u001b[0;34m:\u001b[0m\u001b[0;34m\u001b[0m\u001b[0m\n\u001b[0;32m----> 3\u001b[0;31m     \u001b[0mout_edges\u001b[0m \u001b[0;34m=\u001b[0m \u001b[0mG\u001b[0m\u001b[0;34m.\u001b[0m\u001b[0mout_edges\u001b[0m\u001b[0;34m[\u001b[0m\u001b[0mid\u001b[0m\u001b[0;34m]\u001b[0m\u001b[0;34m\u001b[0m\u001b[0m\n\u001b[0m\u001b[1;32m      4\u001b[0m     \u001b[0min_edges\u001b[0m \u001b[0;34m=\u001b[0m \u001b[0mG\u001b[0m\u001b[0;34m.\u001b[0m\u001b[0min_edges\u001b[0m\u001b[0;34m[\u001b[0m\u001b[0mid\u001b[0m\u001b[0;34m]\u001b[0m\u001b[0;34m\u001b[0m\u001b[0m\n\u001b[1;32m      5\u001b[0m     \u001b[0;31m# Remove the node from the graph\u001b[0m\u001b[0;34m\u001b[0m\u001b[0;34m\u001b[0m\u001b[0m\n",
      "\u001b[0;31mTypeError\u001b[0m: 'instancemethod' object has no attribute '__getitem__'"
     ]
    }
   ],
   "source": [
    "# Remove some odd nodes\n",
    "def remove_food_node(G, id):\n",
    "    out_edges = G.out_edges[id]\n",
    "    in_edges = G.in_edges[id]\n",
    "    # Remove the node from the graph\n",
    "    G.remove_node(id)\n",
    "    # Remove all outgoing hyperedges, iff no other node is connected\n",
    "    for _, hyperedge in out_edges:\n",
    "        if G.in_degree(hyperedge) == 0:\n",
    "            G.remove_node(hyperedge)\n",
    "    # Remove all incoming hyperedges\n",
    "    for _, hyperedge in in_edges:\n",
    "        G.remove_node(hyperedge)\n",
    "\n",
    "remove_food_node(G, 'zest')\n",
    "remove_food_node(G, 'http://www.bbc.co.uk/food/quick_suppers')\n"
   ]
  },
  {
   "cell_type": "code",
   "execution_count": null,
   "metadata": {
    "collapsed": true
   },
   "outputs": [],
   "source": []
  }
 ],
 "metadata": {
  "kernelspec": {
   "display_name": "Python 2",
   "language": "python",
   "name": "python2"
  },
  "language_info": {
   "codemirror_mode": {
    "name": "ipython",
    "version": 2
   },
   "file_extension": ".py",
   "mimetype": "text/x-python",
   "name": "python",
   "nbconvert_exporter": "python",
   "pygments_lexer": "ipython2",
   "version": "2.7.6"
  }
 },
 "nbformat": 4,
 "nbformat_minor": 0
}
